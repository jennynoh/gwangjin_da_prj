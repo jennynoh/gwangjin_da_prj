{
 "cells": [
  {
   "cell_type": "code",
   "execution_count": 3,
   "id": "bfc6aeae-13a3-4e76-82c3-8cb9b7ce3ff9",
   "metadata": {},
   "outputs": [
    {
     "data": {
      "text/html": [
       "<div>\n",
       "<style scoped>\n",
       "    .dataframe tbody tr th:only-of-type {\n",
       "        vertical-align: middle;\n",
       "    }\n",
       "\n",
       "    .dataframe tbody tr th {\n",
       "        vertical-align: top;\n",
       "    }\n",
       "\n",
       "    .dataframe thead th {\n",
       "        text-align: right;\n",
       "    }\n",
       "</style>\n",
       "<table border=\"1\" class=\"dataframe\">\n",
       "  <thead>\n",
       "    <tr style=\"text-align: right;\">\n",
       "      <th></th>\n",
       "      <th>H_SDNG_CD</th>\n",
       "      <th>H_DNG_CD</th>\n",
       "      <th>DO_NM</th>\n",
       "      <th>CT_NM</th>\n",
       "      <th>H_DNG_NM</th>\n",
       "    </tr>\n",
       "  </thead>\n",
       "  <tbody>\n",
       "    <tr>\n",
       "      <th>0</th>\n",
       "      <td>1105053</td>\n",
       "      <td>11215710</td>\n",
       "      <td>서울</td>\n",
       "      <td>광진구</td>\n",
       "      <td>화양동</td>\n",
       "    </tr>\n",
       "    <tr>\n",
       "      <th>1</th>\n",
       "      <td>1105054</td>\n",
       "      <td>11215730</td>\n",
       "      <td>서울</td>\n",
       "      <td>광진구</td>\n",
       "      <td>군자동</td>\n",
       "    </tr>\n",
       "    <tr>\n",
       "      <th>2</th>\n",
       "      <td>1105055</td>\n",
       "      <td>11215740</td>\n",
       "      <td>서울</td>\n",
       "      <td>광진구</td>\n",
       "      <td>중곡1동</td>\n",
       "    </tr>\n",
       "    <tr>\n",
       "      <th>3</th>\n",
       "      <td>1105056</td>\n",
       "      <td>11215750</td>\n",
       "      <td>서울</td>\n",
       "      <td>광진구</td>\n",
       "      <td>중곡2동</td>\n",
       "    </tr>\n",
       "    <tr>\n",
       "      <th>4</th>\n",
       "      <td>1105057</td>\n",
       "      <td>11215760</td>\n",
       "      <td>서울</td>\n",
       "      <td>광진구</td>\n",
       "      <td>중곡3동</td>\n",
       "    </tr>\n",
       "  </tbody>\n",
       "</table>\n",
       "</div>"
      ],
      "text/plain": [
       "   H_SDNG_CD  H_DNG_CD DO_NM CT_NM H_DNG_NM\n",
       "0    1105053  11215710    서울   광진구      화양동\n",
       "1    1105054  11215730    서울   광진구      군자동\n",
       "2    1105055  11215740    서울   광진구     중곡1동\n",
       "3    1105056  11215750    서울   광진구     중곡2동\n",
       "4    1105057  11215760    서울   광진구     중곡3동"
      ]
     },
     "execution_count": 3,
     "metadata": {},
     "output_type": "execute_result"
    }
   ],
   "source": [
    "import chardet\n",
    "import pandas as pd\n",
    "with open('dataset/GJG_DNG_CD_MAPPING.csv', 'rb') as file:\n",
    "    result = chardet.detect(file.read())\n",
    "    encoding = result['encoding']\n",
    "\n",
    "df = pd.read_csv('dataset/GJG_DNG_CD_MAPPING.csv', encoding=encoding)\n",
    "df.head()"
   ]
  },
  {
   "cell_type": "code",
   "execution_count": 4,
   "id": "66bcc362-7168-423f-a19e-20e7ca88a157",
   "metadata": {},
   "outputs": [],
   "source": [
    "df.to_csv('dataset/GJG_DNG_CD_MAPPING.csv', encoding = 'utf-8-sig', index = False)"
   ]
  }
 ],
 "metadata": {
  "kernelspec": {
   "display_name": "Python 3 (ipykernel)",
   "language": "python",
   "name": "python3"
  },
  "language_info": {
   "codemirror_mode": {
    "name": "ipython",
    "version": 3
   },
   "file_extension": ".py",
   "mimetype": "text/x-python",
   "name": "python",
   "nbconvert_exporter": "python",
   "pygments_lexer": "ipython3",
   "version": "3.11.5"
  }
 },
 "nbformat": 4,
 "nbformat_minor": 5
}
